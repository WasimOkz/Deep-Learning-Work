{
 "cells": [
  {
   "cell_type": "markdown",
   "id": "5da9717d",
   "metadata": {},
   "source": [
    "# Practicing ANN with Sigmoid and Relu Activation Funcation"
   ]
  },
  {
   "cell_type": "code",
   "execution_count": 1,
   "id": "60213285",
   "metadata": {},
   "outputs": [],
   "source": [
    "import pandas as pd\n",
    "import numpy as np\n",
    "import matplotlib.pyplot as plt\n",
    "import seaborn as sns"
   ]
  },
  {
   "cell_type": "code",
   "execution_count": 2,
   "id": "1059779c",
   "metadata": {},
   "outputs": [
    {
     "data": {
      "text/plain": [
       "(10000, 14)"
      ]
     },
     "execution_count": 2,
     "metadata": {},
     "output_type": "execute_result"
    }
   ],
   "source": [
    "data = pd.read_csv(\"Churn_Modelling.csv\")\n",
    "data.shape"
   ]
  },
  {
   "cell_type": "code",
   "execution_count": 3,
   "id": "0f88d772",
   "metadata": {},
   "outputs": [
    {
     "data": {
      "text/html": [
       "<div>\n",
       "<style scoped>\n",
       "    .dataframe tbody tr th:only-of-type {\n",
       "        vertical-align: middle;\n",
       "    }\n",
       "\n",
       "    .dataframe tbody tr th {\n",
       "        vertical-align: top;\n",
       "    }\n",
       "\n",
       "    .dataframe thead th {\n",
       "        text-align: right;\n",
       "    }\n",
       "</style>\n",
       "<table border=\"1\" class=\"dataframe\">\n",
       "  <thead>\n",
       "    <tr style=\"text-align: right;\">\n",
       "      <th></th>\n",
       "      <th>RowNumber</th>\n",
       "      <th>CustomerId</th>\n",
       "      <th>Surname</th>\n",
       "      <th>CreditScore</th>\n",
       "      <th>Geography</th>\n",
       "      <th>Gender</th>\n",
       "      <th>Age</th>\n",
       "      <th>Tenure</th>\n",
       "      <th>Balance</th>\n",
       "      <th>NumOfProducts</th>\n",
       "      <th>HasCrCard</th>\n",
       "      <th>IsActiveMember</th>\n",
       "      <th>EstimatedSalary</th>\n",
       "      <th>Exited</th>\n",
       "    </tr>\n",
       "  </thead>\n",
       "  <tbody>\n",
       "    <tr>\n",
       "      <th>1696</th>\n",
       "      <td>1697</td>\n",
       "      <td>15700255</td>\n",
       "      <td>Robson</td>\n",
       "      <td>814</td>\n",
       "      <td>Germany</td>\n",
       "      <td>Male</td>\n",
       "      <td>44</td>\n",
       "      <td>8</td>\n",
       "      <td>95488.82</td>\n",
       "      <td>2</td>\n",
       "      <td>0</td>\n",
       "      <td>0</td>\n",
       "      <td>107013.59</td>\n",
       "      <td>0</td>\n",
       "    </tr>\n",
       "    <tr>\n",
       "      <th>5881</th>\n",
       "      <td>5882</td>\n",
       "      <td>15567991</td>\n",
       "      <td>Obiuto</td>\n",
       "      <td>794</td>\n",
       "      <td>Spain</td>\n",
       "      <td>Male</td>\n",
       "      <td>31</td>\n",
       "      <td>0</td>\n",
       "      <td>144880.34</td>\n",
       "      <td>2</td>\n",
       "      <td>0</td>\n",
       "      <td>1</td>\n",
       "      <td>175643.44</td>\n",
       "      <td>0</td>\n",
       "    </tr>\n",
       "    <tr>\n",
       "      <th>5214</th>\n",
       "      <td>5215</td>\n",
       "      <td>15709474</td>\n",
       "      <td>Macnamara</td>\n",
       "      <td>740</td>\n",
       "      <td>Germany</td>\n",
       "      <td>Female</td>\n",
       "      <td>57</td>\n",
       "      <td>3</td>\n",
       "      <td>113386.36</td>\n",
       "      <td>2</td>\n",
       "      <td>1</td>\n",
       "      <td>1</td>\n",
       "      <td>65121.63</td>\n",
       "      <td>1</td>\n",
       "    </tr>\n",
       "    <tr>\n",
       "      <th>996</th>\n",
       "      <td>997</td>\n",
       "      <td>15645621</td>\n",
       "      <td>Hunter</td>\n",
       "      <td>811</td>\n",
       "      <td>Spain</td>\n",
       "      <td>Male</td>\n",
       "      <td>44</td>\n",
       "      <td>3</td>\n",
       "      <td>0.00</td>\n",
       "      <td>2</td>\n",
       "      <td>0</td>\n",
       "      <td>1</td>\n",
       "      <td>78439.73</td>\n",
       "      <td>0</td>\n",
       "    </tr>\n",
       "    <tr>\n",
       "      <th>670</th>\n",
       "      <td>671</td>\n",
       "      <td>15576368</td>\n",
       "      <td>Bledsoe</td>\n",
       "      <td>624</td>\n",
       "      <td>Germany</td>\n",
       "      <td>Female</td>\n",
       "      <td>48</td>\n",
       "      <td>3</td>\n",
       "      <td>122388.38</td>\n",
       "      <td>2</td>\n",
       "      <td>0</td>\n",
       "      <td>0</td>\n",
       "      <td>30020.09</td>\n",
       "      <td>0</td>\n",
       "    </tr>\n",
       "  </tbody>\n",
       "</table>\n",
       "</div>"
      ],
      "text/plain": [
       "      RowNumber  CustomerId    Surname  CreditScore Geography  Gender  Age  \\\n",
       "1696       1697    15700255     Robson          814   Germany    Male   44   \n",
       "5881       5882    15567991     Obiuto          794     Spain    Male   31   \n",
       "5214       5215    15709474  Macnamara          740   Germany  Female   57   \n",
       "996         997    15645621     Hunter          811     Spain    Male   44   \n",
       "670         671    15576368    Bledsoe          624   Germany  Female   48   \n",
       "\n",
       "      Tenure    Balance  NumOfProducts  HasCrCard  IsActiveMember  \\\n",
       "1696       8   95488.82              2          0               0   \n",
       "5881       0  144880.34              2          0               1   \n",
       "5214       3  113386.36              2          1               1   \n",
       "996        3       0.00              2          0               1   \n",
       "670        3  122388.38              2          0               0   \n",
       "\n",
       "      EstimatedSalary  Exited  \n",
       "1696        107013.59       0  \n",
       "5881        175643.44       0  \n",
       "5214         65121.63       1  \n",
       "996          78439.73       0  \n",
       "670          30020.09       0  "
      ]
     },
     "execution_count": 3,
     "metadata": {},
     "output_type": "execute_result"
    }
   ],
   "source": [
    "data.sample(5)"
   ]
  },
  {
   "cell_type": "code",
   "execution_count": 4,
   "id": "0a603886",
   "metadata": {},
   "outputs": [],
   "source": [
    "data.drop(columns = ['RowNumber','CustomerId','Surname'], inplace =True)\n"
   ]
  },
  {
   "cell_type": "code",
   "execution_count": 5,
   "id": "9572102d",
   "metadata": {},
   "outputs": [
    {
     "data": {
      "text/html": [
       "<div>\n",
       "<style scoped>\n",
       "    .dataframe tbody tr th:only-of-type {\n",
       "        vertical-align: middle;\n",
       "    }\n",
       "\n",
       "    .dataframe tbody tr th {\n",
       "        vertical-align: top;\n",
       "    }\n",
       "\n",
       "    .dataframe thead th {\n",
       "        text-align: right;\n",
       "    }\n",
       "</style>\n",
       "<table border=\"1\" class=\"dataframe\">\n",
       "  <thead>\n",
       "    <tr style=\"text-align: right;\">\n",
       "      <th></th>\n",
       "      <th>CreditScore</th>\n",
       "      <th>Geography</th>\n",
       "      <th>Gender</th>\n",
       "      <th>Age</th>\n",
       "      <th>Tenure</th>\n",
       "      <th>Balance</th>\n",
       "      <th>NumOfProducts</th>\n",
       "      <th>HasCrCard</th>\n",
       "      <th>IsActiveMember</th>\n",
       "      <th>EstimatedSalary</th>\n",
       "      <th>Exited</th>\n",
       "    </tr>\n",
       "  </thead>\n",
       "  <tbody>\n",
       "    <tr>\n",
       "      <th>0</th>\n",
       "      <td>619</td>\n",
       "      <td>France</td>\n",
       "      <td>Female</td>\n",
       "      <td>42</td>\n",
       "      <td>2</td>\n",
       "      <td>0.00</td>\n",
       "      <td>1</td>\n",
       "      <td>1</td>\n",
       "      <td>1</td>\n",
       "      <td>101348.88</td>\n",
       "      <td>1</td>\n",
       "    </tr>\n",
       "    <tr>\n",
       "      <th>1</th>\n",
       "      <td>608</td>\n",
       "      <td>Spain</td>\n",
       "      <td>Female</td>\n",
       "      <td>41</td>\n",
       "      <td>1</td>\n",
       "      <td>83807.86</td>\n",
       "      <td>1</td>\n",
       "      <td>0</td>\n",
       "      <td>1</td>\n",
       "      <td>112542.58</td>\n",
       "      <td>0</td>\n",
       "    </tr>\n",
       "    <tr>\n",
       "      <th>2</th>\n",
       "      <td>502</td>\n",
       "      <td>France</td>\n",
       "      <td>Female</td>\n",
       "      <td>42</td>\n",
       "      <td>8</td>\n",
       "      <td>159660.80</td>\n",
       "      <td>3</td>\n",
       "      <td>1</td>\n",
       "      <td>0</td>\n",
       "      <td>113931.57</td>\n",
       "      <td>1</td>\n",
       "    </tr>\n",
       "    <tr>\n",
       "      <th>3</th>\n",
       "      <td>699</td>\n",
       "      <td>France</td>\n",
       "      <td>Female</td>\n",
       "      <td>39</td>\n",
       "      <td>1</td>\n",
       "      <td>0.00</td>\n",
       "      <td>2</td>\n",
       "      <td>0</td>\n",
       "      <td>0</td>\n",
       "      <td>93826.63</td>\n",
       "      <td>0</td>\n",
       "    </tr>\n",
       "    <tr>\n",
       "      <th>4</th>\n",
       "      <td>850</td>\n",
       "      <td>Spain</td>\n",
       "      <td>Female</td>\n",
       "      <td>43</td>\n",
       "      <td>2</td>\n",
       "      <td>125510.82</td>\n",
       "      <td>1</td>\n",
       "      <td>1</td>\n",
       "      <td>1</td>\n",
       "      <td>79084.10</td>\n",
       "      <td>0</td>\n",
       "    </tr>\n",
       "  </tbody>\n",
       "</table>\n",
       "</div>"
      ],
      "text/plain": [
       "   CreditScore Geography  Gender  Age  Tenure    Balance  NumOfProducts  \\\n",
       "0          619    France  Female   42       2       0.00              1   \n",
       "1          608     Spain  Female   41       1   83807.86              1   \n",
       "2          502    France  Female   42       8  159660.80              3   \n",
       "3          699    France  Female   39       1       0.00              2   \n",
       "4          850     Spain  Female   43       2  125510.82              1   \n",
       "\n",
       "   HasCrCard  IsActiveMember  EstimatedSalary  Exited  \n",
       "0          1               1        101348.88       1  \n",
       "1          0               1        112542.58       0  \n",
       "2          1               0        113931.57       1  \n",
       "3          0               0         93826.63       0  \n",
       "4          1               1         79084.10       0  "
      ]
     },
     "execution_count": 5,
     "metadata": {},
     "output_type": "execute_result"
    }
   ],
   "source": [
    "data.head()"
   ]
  },
  {
   "cell_type": "code",
   "execution_count": 6,
   "id": "e0856558",
   "metadata": {},
   "outputs": [
    {
     "data": {
      "text/plain": [
       "0    7963\n",
       "1    2037\n",
       "Name: Exited, dtype: int64"
      ]
     },
     "execution_count": 6,
     "metadata": {},
     "output_type": "execute_result"
    }
   ],
   "source": [
    "data['Exited'].value_counts()"
   ]
  },
  {
   "cell_type": "code",
   "execution_count": 7,
   "id": "484503f4",
   "metadata": {},
   "outputs": [
    {
     "data": {
      "text/plain": [
       "France     5014\n",
       "Germany    2509\n",
       "Spain      2477\n",
       "Name: Geography, dtype: int64"
      ]
     },
     "execution_count": 7,
     "metadata": {},
     "output_type": "execute_result"
    }
   ],
   "source": [
    "data['Geography'].value_counts()"
   ]
  },
  {
   "cell_type": "code",
   "execution_count": 8,
   "id": "b4960259",
   "metadata": {},
   "outputs": [
    {
     "data": {
      "text/plain": [
       "Male      5457\n",
       "Female    4543\n",
       "Name: Gender, dtype: int64"
      ]
     },
     "execution_count": 8,
     "metadata": {},
     "output_type": "execute_result"
    }
   ],
   "source": [
    "data['Gender'].value_counts()"
   ]
  },
  {
   "cell_type": "code",
   "execution_count": 9,
   "id": "a3dc87d9",
   "metadata": {
    "scrolled": true
   },
   "outputs": [
    {
     "data": {
      "text/plain": [
       "0"
      ]
     },
     "execution_count": 9,
     "metadata": {},
     "output_type": "execute_result"
    }
   ],
   "source": [
    "data.duplicated().sum()"
   ]
  },
  {
   "cell_type": "code",
   "execution_count": 10,
   "id": "899e46cc",
   "metadata": {},
   "outputs": [
    {
     "data": {
      "text/html": [
       "<div>\n",
       "<style scoped>\n",
       "    .dataframe tbody tr th:only-of-type {\n",
       "        vertical-align: middle;\n",
       "    }\n",
       "\n",
       "    .dataframe tbody tr th {\n",
       "        vertical-align: top;\n",
       "    }\n",
       "\n",
       "    .dataframe thead th {\n",
       "        text-align: right;\n",
       "    }\n",
       "</style>\n",
       "<table border=\"1\" class=\"dataframe\">\n",
       "  <thead>\n",
       "    <tr style=\"text-align: right;\">\n",
       "      <th></th>\n",
       "      <th>CreditScore</th>\n",
       "      <th>Age</th>\n",
       "      <th>Tenure</th>\n",
       "      <th>Balance</th>\n",
       "      <th>NumOfProducts</th>\n",
       "      <th>HasCrCard</th>\n",
       "      <th>IsActiveMember</th>\n",
       "      <th>EstimatedSalary</th>\n",
       "      <th>Exited</th>\n",
       "      <th>Geography_Germany</th>\n",
       "      <th>Geography_Spain</th>\n",
       "      <th>Gender_Male</th>\n",
       "    </tr>\n",
       "  </thead>\n",
       "  <tbody>\n",
       "    <tr>\n",
       "      <th>0</th>\n",
       "      <td>619</td>\n",
       "      <td>42</td>\n",
       "      <td>2</td>\n",
       "      <td>0.00</td>\n",
       "      <td>1</td>\n",
       "      <td>1</td>\n",
       "      <td>1</td>\n",
       "      <td>101348.88</td>\n",
       "      <td>1</td>\n",
       "      <td>0</td>\n",
       "      <td>0</td>\n",
       "      <td>0</td>\n",
       "    </tr>\n",
       "    <tr>\n",
       "      <th>1</th>\n",
       "      <td>608</td>\n",
       "      <td>41</td>\n",
       "      <td>1</td>\n",
       "      <td>83807.86</td>\n",
       "      <td>1</td>\n",
       "      <td>0</td>\n",
       "      <td>1</td>\n",
       "      <td>112542.58</td>\n",
       "      <td>0</td>\n",
       "      <td>0</td>\n",
       "      <td>1</td>\n",
       "      <td>0</td>\n",
       "    </tr>\n",
       "    <tr>\n",
       "      <th>2</th>\n",
       "      <td>502</td>\n",
       "      <td>42</td>\n",
       "      <td>8</td>\n",
       "      <td>159660.80</td>\n",
       "      <td>3</td>\n",
       "      <td>1</td>\n",
       "      <td>0</td>\n",
       "      <td>113931.57</td>\n",
       "      <td>1</td>\n",
       "      <td>0</td>\n",
       "      <td>0</td>\n",
       "      <td>0</td>\n",
       "    </tr>\n",
       "    <tr>\n",
       "      <th>3</th>\n",
       "      <td>699</td>\n",
       "      <td>39</td>\n",
       "      <td>1</td>\n",
       "      <td>0.00</td>\n",
       "      <td>2</td>\n",
       "      <td>0</td>\n",
       "      <td>0</td>\n",
       "      <td>93826.63</td>\n",
       "      <td>0</td>\n",
       "      <td>0</td>\n",
       "      <td>0</td>\n",
       "      <td>0</td>\n",
       "    </tr>\n",
       "    <tr>\n",
       "      <th>4</th>\n",
       "      <td>850</td>\n",
       "      <td>43</td>\n",
       "      <td>2</td>\n",
       "      <td>125510.82</td>\n",
       "      <td>1</td>\n",
       "      <td>1</td>\n",
       "      <td>1</td>\n",
       "      <td>79084.10</td>\n",
       "      <td>0</td>\n",
       "      <td>0</td>\n",
       "      <td>1</td>\n",
       "      <td>0</td>\n",
       "    </tr>\n",
       "  </tbody>\n",
       "</table>\n",
       "</div>"
      ],
      "text/plain": [
       "   CreditScore  Age  Tenure    Balance  NumOfProducts  HasCrCard  \\\n",
       "0          619   42       2       0.00              1          1   \n",
       "1          608   41       1   83807.86              1          0   \n",
       "2          502   42       8  159660.80              3          1   \n",
       "3          699   39       1       0.00              2          0   \n",
       "4          850   43       2  125510.82              1          1   \n",
       "\n",
       "   IsActiveMember  EstimatedSalary  Exited  Geography_Germany  \\\n",
       "0               1        101348.88       1                  0   \n",
       "1               1        112542.58       0                  0   \n",
       "2               0        113931.57       1                  0   \n",
       "3               0         93826.63       0                  0   \n",
       "4               1         79084.10       0                  0   \n",
       "\n",
       "   Geography_Spain  Gender_Male  \n",
       "0                0            0  \n",
       "1                1            0  \n",
       "2                0            0  \n",
       "3                0            0  \n",
       "4                1            0  "
      ]
     },
     "execution_count": 10,
     "metadata": {},
     "output_type": "execute_result"
    }
   ],
   "source": [
    "data = pd.get_dummies(data,columns =['Geography','Gender'], drop_first = True)\n",
    "data.head()"
   ]
  },
  {
   "cell_type": "code",
   "execution_count": 11,
   "id": "fb323b22",
   "metadata": {},
   "outputs": [],
   "source": [
    "X = data.drop(columns=['Exited'])\n",
    "y = data['Exited']"
   ]
  },
  {
   "cell_type": "code",
   "execution_count": 12,
   "id": "66fc987c",
   "metadata": {
    "scrolled": false
   },
   "outputs": [
    {
     "data": {
      "text/html": [
       "<div>\n",
       "<style scoped>\n",
       "    .dataframe tbody tr th:only-of-type {\n",
       "        vertical-align: middle;\n",
       "    }\n",
       "\n",
       "    .dataframe tbody tr th {\n",
       "        vertical-align: top;\n",
       "    }\n",
       "\n",
       "    .dataframe thead th {\n",
       "        text-align: right;\n",
       "    }\n",
       "</style>\n",
       "<table border=\"1\" class=\"dataframe\">\n",
       "  <thead>\n",
       "    <tr style=\"text-align: right;\">\n",
       "      <th></th>\n",
       "      <th>CreditScore</th>\n",
       "      <th>Age</th>\n",
       "      <th>Tenure</th>\n",
       "      <th>Balance</th>\n",
       "      <th>NumOfProducts</th>\n",
       "      <th>HasCrCard</th>\n",
       "      <th>IsActiveMember</th>\n",
       "      <th>EstimatedSalary</th>\n",
       "      <th>Geography_Germany</th>\n",
       "      <th>Geography_Spain</th>\n",
       "      <th>Gender_Male</th>\n",
       "    </tr>\n",
       "  </thead>\n",
       "  <tbody>\n",
       "    <tr>\n",
       "      <th>0</th>\n",
       "      <td>619</td>\n",
       "      <td>42</td>\n",
       "      <td>2</td>\n",
       "      <td>0.00</td>\n",
       "      <td>1</td>\n",
       "      <td>1</td>\n",
       "      <td>1</td>\n",
       "      <td>101348.88</td>\n",
       "      <td>0</td>\n",
       "      <td>0</td>\n",
       "      <td>0</td>\n",
       "    </tr>\n",
       "    <tr>\n",
       "      <th>1</th>\n",
       "      <td>608</td>\n",
       "      <td>41</td>\n",
       "      <td>1</td>\n",
       "      <td>83807.86</td>\n",
       "      <td>1</td>\n",
       "      <td>0</td>\n",
       "      <td>1</td>\n",
       "      <td>112542.58</td>\n",
       "      <td>0</td>\n",
       "      <td>1</td>\n",
       "      <td>0</td>\n",
       "    </tr>\n",
       "    <tr>\n",
       "      <th>2</th>\n",
       "      <td>502</td>\n",
       "      <td>42</td>\n",
       "      <td>8</td>\n",
       "      <td>159660.80</td>\n",
       "      <td>3</td>\n",
       "      <td>1</td>\n",
       "      <td>0</td>\n",
       "      <td>113931.57</td>\n",
       "      <td>0</td>\n",
       "      <td>0</td>\n",
       "      <td>0</td>\n",
       "    </tr>\n",
       "    <tr>\n",
       "      <th>3</th>\n",
       "      <td>699</td>\n",
       "      <td>39</td>\n",
       "      <td>1</td>\n",
       "      <td>0.00</td>\n",
       "      <td>2</td>\n",
       "      <td>0</td>\n",
       "      <td>0</td>\n",
       "      <td>93826.63</td>\n",
       "      <td>0</td>\n",
       "      <td>0</td>\n",
       "      <td>0</td>\n",
       "    </tr>\n",
       "    <tr>\n",
       "      <th>4</th>\n",
       "      <td>850</td>\n",
       "      <td>43</td>\n",
       "      <td>2</td>\n",
       "      <td>125510.82</td>\n",
       "      <td>1</td>\n",
       "      <td>1</td>\n",
       "      <td>1</td>\n",
       "      <td>79084.10</td>\n",
       "      <td>0</td>\n",
       "      <td>1</td>\n",
       "      <td>0</td>\n",
       "    </tr>\n",
       "    <tr>\n",
       "      <th>...</th>\n",
       "      <td>...</td>\n",
       "      <td>...</td>\n",
       "      <td>...</td>\n",
       "      <td>...</td>\n",
       "      <td>...</td>\n",
       "      <td>...</td>\n",
       "      <td>...</td>\n",
       "      <td>...</td>\n",
       "      <td>...</td>\n",
       "      <td>...</td>\n",
       "      <td>...</td>\n",
       "    </tr>\n",
       "    <tr>\n",
       "      <th>9995</th>\n",
       "      <td>771</td>\n",
       "      <td>39</td>\n",
       "      <td>5</td>\n",
       "      <td>0.00</td>\n",
       "      <td>2</td>\n",
       "      <td>1</td>\n",
       "      <td>0</td>\n",
       "      <td>96270.64</td>\n",
       "      <td>0</td>\n",
       "      <td>0</td>\n",
       "      <td>1</td>\n",
       "    </tr>\n",
       "    <tr>\n",
       "      <th>9996</th>\n",
       "      <td>516</td>\n",
       "      <td>35</td>\n",
       "      <td>10</td>\n",
       "      <td>57369.61</td>\n",
       "      <td>1</td>\n",
       "      <td>1</td>\n",
       "      <td>1</td>\n",
       "      <td>101699.77</td>\n",
       "      <td>0</td>\n",
       "      <td>0</td>\n",
       "      <td>1</td>\n",
       "    </tr>\n",
       "    <tr>\n",
       "      <th>9997</th>\n",
       "      <td>709</td>\n",
       "      <td>36</td>\n",
       "      <td>7</td>\n",
       "      <td>0.00</td>\n",
       "      <td>1</td>\n",
       "      <td>0</td>\n",
       "      <td>1</td>\n",
       "      <td>42085.58</td>\n",
       "      <td>0</td>\n",
       "      <td>0</td>\n",
       "      <td>0</td>\n",
       "    </tr>\n",
       "    <tr>\n",
       "      <th>9998</th>\n",
       "      <td>772</td>\n",
       "      <td>42</td>\n",
       "      <td>3</td>\n",
       "      <td>75075.31</td>\n",
       "      <td>2</td>\n",
       "      <td>1</td>\n",
       "      <td>0</td>\n",
       "      <td>92888.52</td>\n",
       "      <td>1</td>\n",
       "      <td>0</td>\n",
       "      <td>1</td>\n",
       "    </tr>\n",
       "    <tr>\n",
       "      <th>9999</th>\n",
       "      <td>792</td>\n",
       "      <td>28</td>\n",
       "      <td>4</td>\n",
       "      <td>130142.79</td>\n",
       "      <td>1</td>\n",
       "      <td>1</td>\n",
       "      <td>0</td>\n",
       "      <td>38190.78</td>\n",
       "      <td>0</td>\n",
       "      <td>0</td>\n",
       "      <td>0</td>\n",
       "    </tr>\n",
       "  </tbody>\n",
       "</table>\n",
       "<p>10000 rows × 11 columns</p>\n",
       "</div>"
      ],
      "text/plain": [
       "      CreditScore  Age  Tenure    Balance  NumOfProducts  HasCrCard  \\\n",
       "0             619   42       2       0.00              1          1   \n",
       "1             608   41       1   83807.86              1          0   \n",
       "2             502   42       8  159660.80              3          1   \n",
       "3             699   39       1       0.00              2          0   \n",
       "4             850   43       2  125510.82              1          1   \n",
       "...           ...  ...     ...        ...            ...        ...   \n",
       "9995          771   39       5       0.00              2          1   \n",
       "9996          516   35      10   57369.61              1          1   \n",
       "9997          709   36       7       0.00              1          0   \n",
       "9998          772   42       3   75075.31              2          1   \n",
       "9999          792   28       4  130142.79              1          1   \n",
       "\n",
       "      IsActiveMember  EstimatedSalary  Geography_Germany  Geography_Spain  \\\n",
       "0                  1        101348.88                  0                0   \n",
       "1                  1        112542.58                  0                1   \n",
       "2                  0        113931.57                  0                0   \n",
       "3                  0         93826.63                  0                0   \n",
       "4                  1         79084.10                  0                1   \n",
       "...              ...              ...                ...              ...   \n",
       "9995               0         96270.64                  0                0   \n",
       "9996               1        101699.77                  0                0   \n",
       "9997               1         42085.58                  0                0   \n",
       "9998               0         92888.52                  1                0   \n",
       "9999               0         38190.78                  0                0   \n",
       "\n",
       "      Gender_Male  \n",
       "0               0  \n",
       "1               0  \n",
       "2               0  \n",
       "3               0  \n",
       "4               0  \n",
       "...           ...  \n",
       "9995            1  \n",
       "9996            1  \n",
       "9997            0  \n",
       "9998            1  \n",
       "9999            0  \n",
       "\n",
       "[10000 rows x 11 columns]"
      ]
     },
     "execution_count": 12,
     "metadata": {},
     "output_type": "execute_result"
    }
   ],
   "source": [
    "X"
   ]
  },
  {
   "cell_type": "code",
   "execution_count": 13,
   "id": "8cc86be9",
   "metadata": {},
   "outputs": [
    {
     "data": {
      "text/plain": [
       "0       1\n",
       "1       0\n",
       "2       1\n",
       "3       0\n",
       "4       0\n",
       "       ..\n",
       "9995    0\n",
       "9996    0\n",
       "9997    1\n",
       "9998    1\n",
       "9999    0\n",
       "Name: Exited, Length: 10000, dtype: int64"
      ]
     },
     "execution_count": 13,
     "metadata": {},
     "output_type": "execute_result"
    }
   ],
   "source": [
    "y"
   ]
  },
  {
   "cell_type": "markdown",
   "id": "d584258f",
   "metadata": {},
   "source": [
    "# Spliting Data into training and testing sets"
   ]
  },
  {
   "cell_type": "code",
   "execution_count": 14,
   "id": "058874ce",
   "metadata": {},
   "outputs": [],
   "source": [
    "from sklearn.model_selection import train_test_split\n",
    "X_train,X_test , y_train,y_test = train_test_split(X,y, test_size = 0.2, random_state=42)"
   ]
  },
  {
   "cell_type": "code",
   "execution_count": 15,
   "id": "749c4d75",
   "metadata": {
    "scrolled": false
   },
   "outputs": [
    {
     "data": {
      "text/html": [
       "<div>\n",
       "<style scoped>\n",
       "    .dataframe tbody tr th:only-of-type {\n",
       "        vertical-align: middle;\n",
       "    }\n",
       "\n",
       "    .dataframe tbody tr th {\n",
       "        vertical-align: top;\n",
       "    }\n",
       "\n",
       "    .dataframe thead th {\n",
       "        text-align: right;\n",
       "    }\n",
       "</style>\n",
       "<table border=\"1\" class=\"dataframe\">\n",
       "  <thead>\n",
       "    <tr style=\"text-align: right;\">\n",
       "      <th></th>\n",
       "      <th>CreditScore</th>\n",
       "      <th>Age</th>\n",
       "      <th>Tenure</th>\n",
       "      <th>Balance</th>\n",
       "      <th>NumOfProducts</th>\n",
       "      <th>HasCrCard</th>\n",
       "      <th>IsActiveMember</th>\n",
       "      <th>EstimatedSalary</th>\n",
       "      <th>Geography_Germany</th>\n",
       "      <th>Geography_Spain</th>\n",
       "      <th>Gender_Male</th>\n",
       "    </tr>\n",
       "  </thead>\n",
       "  <tbody>\n",
       "    <tr>\n",
       "      <th>9254</th>\n",
       "      <td>686</td>\n",
       "      <td>32</td>\n",
       "      <td>6</td>\n",
       "      <td>0.00</td>\n",
       "      <td>2</td>\n",
       "      <td>1</td>\n",
       "      <td>1</td>\n",
       "      <td>179093.26</td>\n",
       "      <td>0</td>\n",
       "      <td>0</td>\n",
       "      <td>1</td>\n",
       "    </tr>\n",
       "    <tr>\n",
       "      <th>1561</th>\n",
       "      <td>632</td>\n",
       "      <td>42</td>\n",
       "      <td>4</td>\n",
       "      <td>119624.60</td>\n",
       "      <td>2</td>\n",
       "      <td>1</td>\n",
       "      <td>1</td>\n",
       "      <td>195978.86</td>\n",
       "      <td>1</td>\n",
       "      <td>0</td>\n",
       "      <td>1</td>\n",
       "    </tr>\n",
       "    <tr>\n",
       "      <th>1670</th>\n",
       "      <td>559</td>\n",
       "      <td>24</td>\n",
       "      <td>3</td>\n",
       "      <td>114739.92</td>\n",
       "      <td>1</td>\n",
       "      <td>1</td>\n",
       "      <td>0</td>\n",
       "      <td>85891.02</td>\n",
       "      <td>0</td>\n",
       "      <td>1</td>\n",
       "      <td>1</td>\n",
       "    </tr>\n",
       "    <tr>\n",
       "      <th>6087</th>\n",
       "      <td>561</td>\n",
       "      <td>27</td>\n",
       "      <td>9</td>\n",
       "      <td>135637.00</td>\n",
       "      <td>1</td>\n",
       "      <td>1</td>\n",
       "      <td>0</td>\n",
       "      <td>153080.40</td>\n",
       "      <td>0</td>\n",
       "      <td>0</td>\n",
       "      <td>0</td>\n",
       "    </tr>\n",
       "    <tr>\n",
       "      <th>6669</th>\n",
       "      <td>517</td>\n",
       "      <td>56</td>\n",
       "      <td>9</td>\n",
       "      <td>142147.32</td>\n",
       "      <td>1</td>\n",
       "      <td>0</td>\n",
       "      <td>0</td>\n",
       "      <td>39488.04</td>\n",
       "      <td>0</td>\n",
       "      <td>0</td>\n",
       "      <td>1</td>\n",
       "    </tr>\n",
       "    <tr>\n",
       "      <th>...</th>\n",
       "      <td>...</td>\n",
       "      <td>...</td>\n",
       "      <td>...</td>\n",
       "      <td>...</td>\n",
       "      <td>...</td>\n",
       "      <td>...</td>\n",
       "      <td>...</td>\n",
       "      <td>...</td>\n",
       "      <td>...</td>\n",
       "      <td>...</td>\n",
       "      <td>...</td>\n",
       "    </tr>\n",
       "    <tr>\n",
       "      <th>5734</th>\n",
       "      <td>768</td>\n",
       "      <td>54</td>\n",
       "      <td>8</td>\n",
       "      <td>69712.74</td>\n",
       "      <td>1</td>\n",
       "      <td>1</td>\n",
       "      <td>1</td>\n",
       "      <td>69381.05</td>\n",
       "      <td>0</td>\n",
       "      <td>0</td>\n",
       "      <td>1</td>\n",
       "    </tr>\n",
       "    <tr>\n",
       "      <th>5191</th>\n",
       "      <td>682</td>\n",
       "      <td>58</td>\n",
       "      <td>1</td>\n",
       "      <td>0.00</td>\n",
       "      <td>1</td>\n",
       "      <td>1</td>\n",
       "      <td>1</td>\n",
       "      <td>706.50</td>\n",
       "      <td>0</td>\n",
       "      <td>0</td>\n",
       "      <td>0</td>\n",
       "    </tr>\n",
       "    <tr>\n",
       "      <th>5390</th>\n",
       "      <td>735</td>\n",
       "      <td>38</td>\n",
       "      <td>1</td>\n",
       "      <td>0.00</td>\n",
       "      <td>3</td>\n",
       "      <td>0</td>\n",
       "      <td>0</td>\n",
       "      <td>92220.12</td>\n",
       "      <td>0</td>\n",
       "      <td>0</td>\n",
       "      <td>0</td>\n",
       "    </tr>\n",
       "    <tr>\n",
       "      <th>860</th>\n",
       "      <td>667</td>\n",
       "      <td>43</td>\n",
       "      <td>8</td>\n",
       "      <td>190227.46</td>\n",
       "      <td>1</td>\n",
       "      <td>1</td>\n",
       "      <td>0</td>\n",
       "      <td>97508.04</td>\n",
       "      <td>0</td>\n",
       "      <td>0</td>\n",
       "      <td>1</td>\n",
       "    </tr>\n",
       "    <tr>\n",
       "      <th>7270</th>\n",
       "      <td>697</td>\n",
       "      <td>51</td>\n",
       "      <td>1</td>\n",
       "      <td>147910.30</td>\n",
       "      <td>1</td>\n",
       "      <td>1</td>\n",
       "      <td>1</td>\n",
       "      <td>53581.14</td>\n",
       "      <td>1</td>\n",
       "      <td>0</td>\n",
       "      <td>1</td>\n",
       "    </tr>\n",
       "  </tbody>\n",
       "</table>\n",
       "<p>8000 rows × 11 columns</p>\n",
       "</div>"
      ],
      "text/plain": [
       "      CreditScore  Age  Tenure    Balance  NumOfProducts  HasCrCard  \\\n",
       "9254          686   32       6       0.00              2          1   \n",
       "1561          632   42       4  119624.60              2          1   \n",
       "1670          559   24       3  114739.92              1          1   \n",
       "6087          561   27       9  135637.00              1          1   \n",
       "6669          517   56       9  142147.32              1          0   \n",
       "...           ...  ...     ...        ...            ...        ...   \n",
       "5734          768   54       8   69712.74              1          1   \n",
       "5191          682   58       1       0.00              1          1   \n",
       "5390          735   38       1       0.00              3          0   \n",
       "860           667   43       8  190227.46              1          1   \n",
       "7270          697   51       1  147910.30              1          1   \n",
       "\n",
       "      IsActiveMember  EstimatedSalary  Geography_Germany  Geography_Spain  \\\n",
       "9254               1        179093.26                  0                0   \n",
       "1561               1        195978.86                  1                0   \n",
       "1670               0         85891.02                  0                1   \n",
       "6087               0        153080.40                  0                0   \n",
       "6669               0         39488.04                  0                0   \n",
       "...              ...              ...                ...              ...   \n",
       "5734               1         69381.05                  0                0   \n",
       "5191               1           706.50                  0                0   \n",
       "5390               0         92220.12                  0                0   \n",
       "860                0         97508.04                  0                0   \n",
       "7270               1         53581.14                  1                0   \n",
       "\n",
       "      Gender_Male  \n",
       "9254            1  \n",
       "1561            1  \n",
       "1670            1  \n",
       "6087            0  \n",
       "6669            1  \n",
       "...           ...  \n",
       "5734            1  \n",
       "5191            0  \n",
       "5390            0  \n",
       "860             1  \n",
       "7270            1  \n",
       "\n",
       "[8000 rows x 11 columns]"
      ]
     },
     "metadata": {},
     "output_type": "display_data"
    },
    {
     "data": {
      "text/html": [
       "<div>\n",
       "<style scoped>\n",
       "    .dataframe tbody tr th:only-of-type {\n",
       "        vertical-align: middle;\n",
       "    }\n",
       "\n",
       "    .dataframe tbody tr th {\n",
       "        vertical-align: top;\n",
       "    }\n",
       "\n",
       "    .dataframe thead th {\n",
       "        text-align: right;\n",
       "    }\n",
       "</style>\n",
       "<table border=\"1\" class=\"dataframe\">\n",
       "  <thead>\n",
       "    <tr style=\"text-align: right;\">\n",
       "      <th></th>\n",
       "      <th>CreditScore</th>\n",
       "      <th>Age</th>\n",
       "      <th>Tenure</th>\n",
       "      <th>Balance</th>\n",
       "      <th>NumOfProducts</th>\n",
       "      <th>HasCrCard</th>\n",
       "      <th>IsActiveMember</th>\n",
       "      <th>EstimatedSalary</th>\n",
       "      <th>Geography_Germany</th>\n",
       "      <th>Geography_Spain</th>\n",
       "      <th>Gender_Male</th>\n",
       "    </tr>\n",
       "  </thead>\n",
       "  <tbody>\n",
       "    <tr>\n",
       "      <th>6252</th>\n",
       "      <td>596</td>\n",
       "      <td>32</td>\n",
       "      <td>3</td>\n",
       "      <td>96709.07</td>\n",
       "      <td>2</td>\n",
       "      <td>0</td>\n",
       "      <td>0</td>\n",
       "      <td>41788.37</td>\n",
       "      <td>1</td>\n",
       "      <td>0</td>\n",
       "      <td>1</td>\n",
       "    </tr>\n",
       "    <tr>\n",
       "      <th>4684</th>\n",
       "      <td>623</td>\n",
       "      <td>43</td>\n",
       "      <td>1</td>\n",
       "      <td>0.00</td>\n",
       "      <td>2</td>\n",
       "      <td>1</td>\n",
       "      <td>1</td>\n",
       "      <td>146379.30</td>\n",
       "      <td>0</td>\n",
       "      <td>0</td>\n",
       "      <td>1</td>\n",
       "    </tr>\n",
       "    <tr>\n",
       "      <th>1731</th>\n",
       "      <td>601</td>\n",
       "      <td>44</td>\n",
       "      <td>4</td>\n",
       "      <td>0.00</td>\n",
       "      <td>2</td>\n",
       "      <td>1</td>\n",
       "      <td>0</td>\n",
       "      <td>58561.31</td>\n",
       "      <td>0</td>\n",
       "      <td>1</td>\n",
       "      <td>0</td>\n",
       "    </tr>\n",
       "    <tr>\n",
       "      <th>4742</th>\n",
       "      <td>506</td>\n",
       "      <td>59</td>\n",
       "      <td>8</td>\n",
       "      <td>119152.10</td>\n",
       "      <td>2</td>\n",
       "      <td>1</td>\n",
       "      <td>1</td>\n",
       "      <td>170679.74</td>\n",
       "      <td>1</td>\n",
       "      <td>0</td>\n",
       "      <td>1</td>\n",
       "    </tr>\n",
       "    <tr>\n",
       "      <th>4521</th>\n",
       "      <td>560</td>\n",
       "      <td>27</td>\n",
       "      <td>7</td>\n",
       "      <td>124995.98</td>\n",
       "      <td>1</td>\n",
       "      <td>1</td>\n",
       "      <td>1</td>\n",
       "      <td>114669.79</td>\n",
       "      <td>0</td>\n",
       "      <td>1</td>\n",
       "      <td>0</td>\n",
       "    </tr>\n",
       "    <tr>\n",
       "      <th>...</th>\n",
       "      <td>...</td>\n",
       "      <td>...</td>\n",
       "      <td>...</td>\n",
       "      <td>...</td>\n",
       "      <td>...</td>\n",
       "      <td>...</td>\n",
       "      <td>...</td>\n",
       "      <td>...</td>\n",
       "      <td>...</td>\n",
       "      <td>...</td>\n",
       "      <td>...</td>\n",
       "    </tr>\n",
       "    <tr>\n",
       "      <th>6412</th>\n",
       "      <td>602</td>\n",
       "      <td>53</td>\n",
       "      <td>5</td>\n",
       "      <td>98268.84</td>\n",
       "      <td>1</td>\n",
       "      <td>0</td>\n",
       "      <td>1</td>\n",
       "      <td>45038.29</td>\n",
       "      <td>1</td>\n",
       "      <td>0</td>\n",
       "      <td>0</td>\n",
       "    </tr>\n",
       "    <tr>\n",
       "      <th>8285</th>\n",
       "      <td>609</td>\n",
       "      <td>25</td>\n",
       "      <td>10</td>\n",
       "      <td>0.00</td>\n",
       "      <td>1</td>\n",
       "      <td>0</td>\n",
       "      <td>1</td>\n",
       "      <td>109895.16</td>\n",
       "      <td>0</td>\n",
       "      <td>0</td>\n",
       "      <td>1</td>\n",
       "    </tr>\n",
       "    <tr>\n",
       "      <th>7853</th>\n",
       "      <td>730</td>\n",
       "      <td>47</td>\n",
       "      <td>7</td>\n",
       "      <td>0.00</td>\n",
       "      <td>1</td>\n",
       "      <td>1</td>\n",
       "      <td>0</td>\n",
       "      <td>33373.26</td>\n",
       "      <td>0</td>\n",
       "      <td>0</td>\n",
       "      <td>0</td>\n",
       "    </tr>\n",
       "    <tr>\n",
       "      <th>1095</th>\n",
       "      <td>692</td>\n",
       "      <td>29</td>\n",
       "      <td>4</td>\n",
       "      <td>0.00</td>\n",
       "      <td>1</td>\n",
       "      <td>1</td>\n",
       "      <td>0</td>\n",
       "      <td>76755.99</td>\n",
       "      <td>0</td>\n",
       "      <td>0</td>\n",
       "      <td>1</td>\n",
       "    </tr>\n",
       "    <tr>\n",
       "      <th>6929</th>\n",
       "      <td>628</td>\n",
       "      <td>39</td>\n",
       "      <td>1</td>\n",
       "      <td>115341.19</td>\n",
       "      <td>1</td>\n",
       "      <td>1</td>\n",
       "      <td>1</td>\n",
       "      <td>107674.30</td>\n",
       "      <td>1</td>\n",
       "      <td>0</td>\n",
       "      <td>1</td>\n",
       "    </tr>\n",
       "  </tbody>\n",
       "</table>\n",
       "<p>2000 rows × 11 columns</p>\n",
       "</div>"
      ],
      "text/plain": [
       "      CreditScore  Age  Tenure    Balance  NumOfProducts  HasCrCard  \\\n",
       "6252          596   32       3   96709.07              2          0   \n",
       "4684          623   43       1       0.00              2          1   \n",
       "1731          601   44       4       0.00              2          1   \n",
       "4742          506   59       8  119152.10              2          1   \n",
       "4521          560   27       7  124995.98              1          1   \n",
       "...           ...  ...     ...        ...            ...        ...   \n",
       "6412          602   53       5   98268.84              1          0   \n",
       "8285          609   25      10       0.00              1          0   \n",
       "7853          730   47       7       0.00              1          1   \n",
       "1095          692   29       4       0.00              1          1   \n",
       "6929          628   39       1  115341.19              1          1   \n",
       "\n",
       "      IsActiveMember  EstimatedSalary  Geography_Germany  Geography_Spain  \\\n",
       "6252               0         41788.37                  1                0   \n",
       "4684               1        146379.30                  0                0   \n",
       "1731               0         58561.31                  0                1   \n",
       "4742               1        170679.74                  1                0   \n",
       "4521               1        114669.79                  0                1   \n",
       "...              ...              ...                ...              ...   \n",
       "6412               1         45038.29                  1                0   \n",
       "8285               1        109895.16                  0                0   \n",
       "7853               0         33373.26                  0                0   \n",
       "1095               0         76755.99                  0                0   \n",
       "6929               1        107674.30                  1                0   \n",
       "\n",
       "      Gender_Male  \n",
       "6252            1  \n",
       "4684            1  \n",
       "1731            0  \n",
       "4742            1  \n",
       "4521            0  \n",
       "...           ...  \n",
       "6412            0  \n",
       "8285            1  \n",
       "7853            0  \n",
       "1095            1  \n",
       "6929            1  \n",
       "\n",
       "[2000 rows x 11 columns]"
      ]
     },
     "metadata": {},
     "output_type": "display_data"
    }
   ],
   "source": [
    "display(X_train,X_test)"
   ]
  },
  {
   "cell_type": "code",
   "execution_count": 16,
   "id": "0e9e8a99",
   "metadata": {},
   "outputs": [
    {
     "name": "stdout",
     "output_type": "stream",
     "text": [
      "9254    0\n",
      "1561    0\n",
      "1670    1\n",
      "6087    1\n",
      "6669    1\n",
      "       ..\n",
      "5734    0\n",
      "5191    0\n",
      "5390    1\n",
      "860     1\n",
      "7270    0\n",
      "Name: Exited, Length: 8000, dtype: int64 6252    0\n",
      "4684    0\n",
      "1731    0\n",
      "4742    0\n",
      "4521    0\n",
      "       ..\n",
      "6412    1\n",
      "8285    0\n",
      "7853    1\n",
      "1095    1\n",
      "6929    1\n",
      "Name: Exited, Length: 2000, dtype: int64\n"
     ]
    }
   ],
   "source": [
    "print(y_train,y_test)"
   ]
  },
  {
   "cell_type": "markdown",
   "id": "2788820e",
   "metadata": {},
   "source": [
    "# Scaling Dataset"
   ]
  },
  {
   "cell_type": "code",
   "execution_count": 17,
   "id": "126c6890",
   "metadata": {},
   "outputs": [],
   "source": [
    "from sklearn.preprocessing import StandardScaler\n",
    "scaler = StandardScaler()"
   ]
  },
  {
   "cell_type": "code",
   "execution_count": 18,
   "id": "a6df48bb",
   "metadata": {},
   "outputs": [],
   "source": [
    "X_train_scaled = scaler.fit_transform(X_train)\n",
    "X_test_scaled = scaler.transform(X_test)"
   ]
  },
  {
   "cell_type": "code",
   "execution_count": 19,
   "id": "1caf0fae",
   "metadata": {},
   "outputs": [
    {
     "data": {
      "text/plain": [
       "array([[ 0.35649971, -0.6557859 ,  0.34567966, ..., -0.57946723,\n",
       "        -0.57638802,  0.91324755],\n",
       "       [-0.20389777,  0.29493847, -0.3483691 , ...,  1.72572313,\n",
       "        -0.57638802,  0.91324755],\n",
       "       [-0.96147213, -1.41636539, -0.69539349, ..., -0.57946723,\n",
       "         1.73494238,  0.91324755],\n",
       "       ...,\n",
       "       [ 0.86500853, -0.08535128, -1.38944225, ..., -0.57946723,\n",
       "        -0.57638802, -1.09499335],\n",
       "       [ 0.15932282,  0.3900109 ,  1.03972843, ..., -0.57946723,\n",
       "        -0.57638802,  0.91324755],\n",
       "       [ 0.47065475,  1.15059039, -1.38944225, ...,  1.72572313,\n",
       "        -0.57638802,  0.91324755]])"
      ]
     },
     "metadata": {},
     "output_type": "display_data"
    },
    {
     "data": {
      "text/plain": [
       "array([[-0.57749609, -0.6557859 , -0.69539349, ...,  1.72572313,\n",
       "        -0.57638802,  0.91324755],\n",
       "       [-0.29729735,  0.3900109 , -1.38944225, ..., -0.57946723,\n",
       "        -0.57638802,  0.91324755],\n",
       "       [-0.52560743,  0.48508334, -0.3483691 , ..., -0.57946723,\n",
       "         1.73494238, -1.09499335],\n",
       "       ...,\n",
       "       [ 0.81311987,  0.77030065,  0.69270405, ..., -0.57946723,\n",
       "        -0.57638802, -1.09499335],\n",
       "       [ 0.41876609, -0.94100321, -0.3483691 , ..., -0.57946723,\n",
       "        -0.57638802,  0.91324755],\n",
       "       [-0.24540869,  0.00972116, -1.38944225, ...,  1.72572313,\n",
       "        -0.57638802,  0.91324755]])"
      ]
     },
     "metadata": {},
     "output_type": "display_data"
    }
   ],
   "source": [
    "display(X_train_scaled,X_test_scaled)"
   ]
  },
  {
   "cell_type": "markdown",
   "id": "1b2e8ccb",
   "metadata": {},
   "source": [
    "# Creating Model"
   ]
  },
  {
   "cell_type": "code",
   "execution_count": 20,
   "id": "8a1163a8",
   "metadata": {},
   "outputs": [],
   "source": [
    "import tensorflow \n",
    "from tensorflow import keras\n",
    "from tensorflow.keras import Sequential\n",
    "from tensorflow.keras.layers import Dense"
   ]
  },
  {
   "cell_type": "code",
   "execution_count": 21,
   "id": "480d46c3",
   "metadata": {},
   "outputs": [],
   "source": [
    "model1 = Sequential()"
   ]
  },
  {
   "cell_type": "code",
   "execution_count": 22,
   "id": "50dd94ff",
   "metadata": {},
   "outputs": [],
   "source": [
    "model1.add(Dense(5, activation = 'sigmoid', input_dim = 11))\n",
    "model1.add(Dense(1, activation = 'sigmoid'))\n"
   ]
  },
  {
   "cell_type": "code",
   "execution_count": 23,
   "id": "c8957f33",
   "metadata": {},
   "outputs": [
    {
     "name": "stdout",
     "output_type": "stream",
     "text": [
      "Model: \"sequential\"\n",
      "_________________________________________________________________\n",
      " Layer (type)                Output Shape              Param #   \n",
      "=================================================================\n",
      " dense (Dense)               (None, 5)                 60        \n",
      "                                                                 \n",
      " dense_1 (Dense)             (None, 1)                 6         \n",
      "                                                                 \n",
      "=================================================================\n",
      "Total params: 66 (264.00 Byte)\n",
      "Trainable params: 66 (264.00 Byte)\n",
      "Non-trainable params: 0 (0.00 Byte)\n",
      "_________________________________________________________________\n"
     ]
    }
   ],
   "source": [
    "model1.summary()"
   ]
  },
  {
   "cell_type": "code",
   "execution_count": 24,
   "id": "bfb235de",
   "metadata": {},
   "outputs": [],
   "source": [
    "model1.compile(optimizer = 'Adam', loss = 'binary_crossentropy' , metrics = ['accuracy'])"
   ]
  },
  {
   "cell_type": "code",
   "execution_count": 25,
   "id": "c51eb1f4",
   "metadata": {
    "scrolled": false
   },
   "outputs": [
    {
     "name": "stdout",
     "output_type": "stream",
     "text": [
      "Epoch 1/50\n",
      "200/200 [==============================] - 3s 6ms/step - loss: 0.7095 - accuracy: 0.4898 - val_loss: 0.6127 - val_accuracy: 0.7381\n",
      "Epoch 2/50\n",
      "200/200 [==============================] - 1s 4ms/step - loss: 0.5658 - accuracy: 0.7784 - val_loss: 0.5203 - val_accuracy: 0.7987\n",
      "Epoch 3/50\n",
      "200/200 [==============================] - 1s 5ms/step - loss: 0.5073 - accuracy: 0.7934 - val_loss: 0.4810 - val_accuracy: 0.7987\n",
      "Epoch 4/50\n",
      "200/200 [==============================] - 1s 5ms/step - loss: 0.4818 - accuracy: 0.7934 - val_loss: 0.4620 - val_accuracy: 0.7987\n",
      "Epoch 5/50\n",
      "200/200 [==============================] - 1s 6ms/step - loss: 0.4681 - accuracy: 0.7934 - val_loss: 0.4504 - val_accuracy: 0.7987\n",
      "Epoch 6/50\n",
      "200/200 [==============================] - 1s 4ms/step - loss: 0.4589 - accuracy: 0.7933 - val_loss: 0.4422 - val_accuracy: 0.8000\n",
      "Epoch 7/50\n",
      "200/200 [==============================] - 1s 5ms/step - loss: 0.4521 - accuracy: 0.7939 - val_loss: 0.4361 - val_accuracy: 0.8037\n",
      "Epoch 8/50\n",
      "200/200 [==============================] - 1s 5ms/step - loss: 0.4469 - accuracy: 0.7955 - val_loss: 0.4316 - val_accuracy: 0.8069\n",
      "Epoch 9/50\n",
      "200/200 [==============================] - 1s 4ms/step - loss: 0.4430 - accuracy: 0.7991 - val_loss: 0.4281 - val_accuracy: 0.8069\n",
      "Epoch 10/50\n",
      "200/200 [==============================] - 1s 4ms/step - loss: 0.4400 - accuracy: 0.8027 - val_loss: 0.4255 - val_accuracy: 0.8131\n",
      "Epoch 11/50\n",
      "200/200 [==============================] - 1s 4ms/step - loss: 0.4379 - accuracy: 0.8044 - val_loss: 0.4237 - val_accuracy: 0.8175\n",
      "Epoch 12/50\n",
      "200/200 [==============================] - 1s 4ms/step - loss: 0.4363 - accuracy: 0.8050 - val_loss: 0.4223 - val_accuracy: 0.8169\n",
      "Epoch 13/50\n",
      "200/200 [==============================] - 1s 5ms/step - loss: 0.4351 - accuracy: 0.8064 - val_loss: 0.4215 - val_accuracy: 0.8169\n",
      "Epoch 14/50\n",
      "200/200 [==============================] - 1s 4ms/step - loss: 0.4344 - accuracy: 0.8067 - val_loss: 0.4210 - val_accuracy: 0.8188\n",
      "Epoch 15/50\n",
      "200/200 [==============================] - 1s 4ms/step - loss: 0.4339 - accuracy: 0.8061 - val_loss: 0.4204 - val_accuracy: 0.8200\n",
      "Epoch 16/50\n",
      "200/200 [==============================] - 1s 5ms/step - loss: 0.4333 - accuracy: 0.8052 - val_loss: 0.4200 - val_accuracy: 0.8206\n",
      "Epoch 17/50\n",
      "200/200 [==============================] - 1s 5ms/step - loss: 0.4329 - accuracy: 0.8045 - val_loss: 0.4196 - val_accuracy: 0.8194\n",
      "Epoch 18/50\n",
      "200/200 [==============================] - 1s 4ms/step - loss: 0.4324 - accuracy: 0.8059 - val_loss: 0.4191 - val_accuracy: 0.8213\n",
      "Epoch 19/50\n",
      "200/200 [==============================] - 1s 4ms/step - loss: 0.4319 - accuracy: 0.8058 - val_loss: 0.4187 - val_accuracy: 0.8219\n",
      "Epoch 20/50\n",
      "200/200 [==============================] - 1s 4ms/step - loss: 0.4314 - accuracy: 0.8036 - val_loss: 0.4182 - val_accuracy: 0.8219\n",
      "Epoch 21/50\n",
      "200/200 [==============================] - 1s 4ms/step - loss: 0.4307 - accuracy: 0.8052 - val_loss: 0.4176 - val_accuracy: 0.8219\n",
      "Epoch 22/50\n",
      "200/200 [==============================] - 1s 5ms/step - loss: 0.4301 - accuracy: 0.8069 - val_loss: 0.4169 - val_accuracy: 0.8231\n",
      "Epoch 23/50\n",
      "200/200 [==============================] - 1s 4ms/step - loss: 0.4294 - accuracy: 0.8081 - val_loss: 0.4164 - val_accuracy: 0.8244\n",
      "Epoch 24/50\n",
      "200/200 [==============================] - 1s 5ms/step - loss: 0.4287 - accuracy: 0.8080 - val_loss: 0.4157 - val_accuracy: 0.8244\n",
      "Epoch 25/50\n",
      "200/200 [==============================] - 1s 5ms/step - loss: 0.4280 - accuracy: 0.8112 - val_loss: 0.4150 - val_accuracy: 0.8256\n",
      "Epoch 26/50\n",
      "200/200 [==============================] - 1s 4ms/step - loss: 0.4271 - accuracy: 0.8122 - val_loss: 0.4142 - val_accuracy: 0.8213\n",
      "Epoch 27/50\n",
      "200/200 [==============================] - 1s 5ms/step - loss: 0.4265 - accuracy: 0.8117 - val_loss: 0.4135 - val_accuracy: 0.8238\n",
      "Epoch 28/50\n",
      "200/200 [==============================] - 1s 4ms/step - loss: 0.4256 - accuracy: 0.8133 - val_loss: 0.4126 - val_accuracy: 0.8256\n",
      "Epoch 29/50\n",
      "200/200 [==============================] - 1s 5ms/step - loss: 0.4247 - accuracy: 0.8147 - val_loss: 0.4118 - val_accuracy: 0.8238\n",
      "Epoch 30/50\n",
      "200/200 [==============================] - 1s 4ms/step - loss: 0.4238 - accuracy: 0.8166 - val_loss: 0.4108 - val_accuracy: 0.8281\n",
      "Epoch 31/50\n",
      "200/200 [==============================] - 1s 7ms/step - loss: 0.4228 - accuracy: 0.8166 - val_loss: 0.4099 - val_accuracy: 0.8269\n",
      "Epoch 32/50\n",
      "200/200 [==============================] - 1s 5ms/step - loss: 0.4218 - accuracy: 0.8189 - val_loss: 0.4090 - val_accuracy: 0.8275\n",
      "Epoch 33/50\n",
      "200/200 [==============================] - 1s 5ms/step - loss: 0.4208 - accuracy: 0.8220 - val_loss: 0.4082 - val_accuracy: 0.8275\n",
      "Epoch 34/50\n",
      "200/200 [==============================] - 1s 5ms/step - loss: 0.4197 - accuracy: 0.8230 - val_loss: 0.4072 - val_accuracy: 0.8313\n",
      "Epoch 35/50\n",
      "200/200 [==============================] - 1s 3ms/step - loss: 0.4188 - accuracy: 0.8244 - val_loss: 0.4064 - val_accuracy: 0.8313\n",
      "Epoch 36/50\n",
      "200/200 [==============================] - 1s 4ms/step - loss: 0.4178 - accuracy: 0.8248 - val_loss: 0.4055 - val_accuracy: 0.8331\n",
      "Epoch 37/50\n",
      "200/200 [==============================] - 1s 4ms/step - loss: 0.4169 - accuracy: 0.8280 - val_loss: 0.4047 - val_accuracy: 0.8331\n",
      "Epoch 38/50\n",
      "200/200 [==============================] - 1s 4ms/step - loss: 0.4160 - accuracy: 0.8258 - val_loss: 0.4040 - val_accuracy: 0.8325\n",
      "Epoch 39/50\n",
      "200/200 [==============================] - 1s 4ms/step - loss: 0.4153 - accuracy: 0.8280 - val_loss: 0.4033 - val_accuracy: 0.8356\n",
      "Epoch 40/50\n",
      "200/200 [==============================] - 1s 4ms/step - loss: 0.4145 - accuracy: 0.8284 - val_loss: 0.4028 - val_accuracy: 0.8344\n",
      "Epoch 41/50\n",
      "200/200 [==============================] - 1s 4ms/step - loss: 0.4138 - accuracy: 0.8295 - val_loss: 0.4022 - val_accuracy: 0.8350\n",
      "Epoch 42/50\n",
      "200/200 [==============================] - 1s 4ms/step - loss: 0.4133 - accuracy: 0.8302 - val_loss: 0.4019 - val_accuracy: 0.8350\n",
      "Epoch 43/50\n",
      "200/200 [==============================] - 1s 3ms/step - loss: 0.4128 - accuracy: 0.8298 - val_loss: 0.4014 - val_accuracy: 0.8338\n",
      "Epoch 44/50\n",
      "200/200 [==============================] - 1s 3ms/step - loss: 0.4123 - accuracy: 0.8311 - val_loss: 0.4012 - val_accuracy: 0.8344\n",
      "Epoch 45/50\n",
      "200/200 [==============================] - 1s 4ms/step - loss: 0.4119 - accuracy: 0.8317 - val_loss: 0.4008 - val_accuracy: 0.8331\n",
      "Epoch 46/50\n",
      "200/200 [==============================] - 1s 4ms/step - loss: 0.4114 - accuracy: 0.8314 - val_loss: 0.4004 - val_accuracy: 0.8338\n",
      "Epoch 47/50\n",
      "200/200 [==============================] - 1s 4ms/step - loss: 0.4111 - accuracy: 0.8313 - val_loss: 0.4002 - val_accuracy: 0.8350\n",
      "Epoch 48/50\n",
      "200/200 [==============================] - 1s 4ms/step - loss: 0.4108 - accuracy: 0.8323 - val_loss: 0.4001 - val_accuracy: 0.8356\n",
      "Epoch 49/50\n",
      "200/200 [==============================] - 1s 4ms/step - loss: 0.4104 - accuracy: 0.8325 - val_loss: 0.3998 - val_accuracy: 0.8344\n",
      "Epoch 50/50\n",
      "200/200 [==============================] - 1s 5ms/step - loss: 0.4102 - accuracy: 0.8328 - val_loss: 0.3997 - val_accuracy: 0.8350\n"
     ]
    }
   ],
   "source": [
    "history1 = model1.fit(X_train_scaled,y_train,epochs = 50 , validation_split = 0.2)"
   ]
  },
  {
   "cell_type": "code",
   "execution_count": 26,
   "id": "d2a32c3b",
   "metadata": {},
   "outputs": [
    {
     "data": {
      "text/plain": [
       "[array([[-1.3065311e-01,  3.4081262e-02, -1.6047767e-01,  8.4653661e-02,\n",
       "         -2.5534600e-01],\n",
       "        [ 3.2140081e+00, -5.4135311e-02,  2.1902695e+00, -3.0319345e+00,\n",
       "          6.2996604e-02],\n",
       "        [-1.6705805e-01,  1.7771523e-01,  1.9564775e-01, -8.5665971e-02,\n",
       "         -1.2203979e-01],\n",
       "        [-1.8308508e-01, -4.9884450e-01,  3.3902225e-01,  3.6068907e-01,\n",
       "         -2.4314394e-02],\n",
       "        [-2.5502795e-02,  9.4325066e-04, -1.6829408e-03,  5.0621289e-01,\n",
       "         -8.6333714e-03],\n",
       "        [-1.2598638e-01,  8.7028369e-02,  4.7047485e-02, -2.1562809e-01,\n",
       "         -6.3764095e-02],\n",
       "        [ 8.4045744e-01,  1.1424035e+00,  2.9894114e-01, -5.3949249e-01,\n",
       "          1.9838439e+00],\n",
       "        [-6.7132838e-02, -9.9568799e-02, -1.1501561e-01,  8.6516112e-02,\n",
       "         -1.6332966e-01],\n",
       "        [-1.3300031e-01, -5.6584322e-01,  3.0563292e-01, -2.2173917e-01,\n",
       "         -8.7272364e-01],\n",
       "        [ 8.3355658e-02, -8.3504833e-02, -1.0355811e-02, -1.0107027e-01,\n",
       "         -5.2870993e-02],\n",
       "        [ 2.5303623e-01,  6.3221782e-01, -2.8914028e-01,  2.0290673e-01,\n",
       "          1.9106010e-01]], dtype=float32),\n",
       " array([-0.33830386,  0.4198545 ,  0.00820365,  0.633279  ,  0.12221747],\n",
       "       dtype=float32)]"
      ]
     },
     "execution_count": 26,
     "metadata": {},
     "output_type": "execute_result"
    }
   ],
   "source": [
    "model1.layers[0].get_weights()"
   ]
  },
  {
   "cell_type": "code",
   "execution_count": 27,
   "id": "ab758027",
   "metadata": {},
   "outputs": [
    {
     "name": "stdout",
     "output_type": "stream",
     "text": [
      "63/63 [==============================] - 0s 3ms/step\n"
     ]
    }
   ],
   "source": [
    "y_log = model1.predict(X_test_scaled)"
   ]
  },
  {
   "cell_type": "code",
   "execution_count": 28,
   "id": "10991b4d",
   "metadata": {},
   "outputs": [
    {
     "data": {
      "text/plain": [
       "array([[0],\n",
       "       [0],\n",
       "       [0],\n",
       "       ...,\n",
       "       [0],\n",
       "       [0],\n",
       "       [0]])"
      ]
     },
     "execution_count": 28,
     "metadata": {},
     "output_type": "execute_result"
    }
   ],
   "source": [
    "y_pred = np.where(y_log > 0.5,1,0)\n",
    "y_pred"
   ]
  },
  {
   "cell_type": "code",
   "execution_count": 29,
   "id": "d3d8c1b5",
   "metadata": {
    "scrolled": true
   },
   "outputs": [
    {
     "data": {
      "text/plain": [
       "0.834"
      ]
     },
     "execution_count": 29,
     "metadata": {},
     "output_type": "execute_result"
    }
   ],
   "source": [
    "from sklearn.metrics import accuracy_score \n",
    "accuracy_score(y_test,y_pred)"
   ]
  },
  {
   "cell_type": "code",
   "execution_count": 30,
   "id": "14bf03c2",
   "metadata": {
    "scrolled": false
   },
   "outputs": [
    {
     "data": {
      "text/plain": [
       "[<matplotlib.lines.Line2D at 0x2baea792bd0>]"
      ]
     },
     "execution_count": 30,
     "metadata": {},
     "output_type": "execute_result"
    },
    {
     "data": {
      "image/png": "[encoded data removed]",
      "text/plain": [
       "<Figure size 640x480 with 1 Axes>"
      ]
     },
     "metadata": {},
     "output_type": "display_data"
    }
   ],
   "source": [
    "plt.plot(history1.history['loss'])\n",
    "plt.plot(history1.history['val_loss'])"
   ]
  },
  {
   "cell_type": "code",
   "execution_count": 31,
   "id": "b3174659",
   "metadata": {},
   "outputs": [
    {
     "data": {
      "text/plain": [
       "[<matplotlib.lines.Line2D at 0x2baea903fd0>]"
      ]
     },
     "execution_count": 31,
     "metadata": {},
     "output_type": "execute_result"
    },
    {
     "data": {
      "image/png": "[encoded data removed]",
      "text/plain": [
       "<Figure size 640x480 with 1 Axes>"
      ]
     },
     "metadata": {},
     "output_type": "display_data"
    }
   ],
   "source": [
    "plt.plot(history1.history['accuracy'])\n",
    "plt.plot(history1.history['val_accuracy'])"
   ]
  },
  {
   "cell_type": "markdown",
   "id": "5ac2f3d9",
   "metadata": {},
   "source": [
    "# Model 2  'Relu'"
   ]
  },
  {
   "cell_type": "code",
   "execution_count": 32,
   "id": "4b0d62e8",
   "metadata": {},
   "outputs": [],
   "source": [
    "model2 = Sequential()\n",
    "\n",
    "model2.add(Dense(5, activation = 'relu', input_dim = 11))\n",
    "model2.add(Dense(3, activation = 'relu'))\n",
    "model2.add(Dense(1, activation = 'sigmoid'))"
   ]
  },
  {
   "cell_type": "code",
   "execution_count": 33,
   "id": "f5bbf669",
   "metadata": {},
   "outputs": [
    {
     "name": "stdout",
     "output_type": "stream",
     "text": [
      "Model: \"sequential_1\"\n",
      "_________________________________________________________________\n",
      " Layer (type)                Output Shape              Param #   \n",
      "=================================================================\n",
      " dense_2 (Dense)             (None, 5)                 60        \n",
      "                                                                 \n",
      " dense_3 (Dense)             (None, 3)                 18        \n",
      "                                                                 \n",
      " dense_4 (Dense)             (None, 1)                 4         \n",
      "                                                                 \n",
      "=================================================================\n",
      "Total params: 82 (328.00 Byte)\n",
      "Trainable params: 82 (328.00 Byte)\n",
      "Non-trainable params: 0 (0.00 Byte)\n",
      "_________________________________________________________________\n"
     ]
    }
   ],
   "source": [
    "model2.summary()"
   ]
  },
  {
   "cell_type": "code",
   "execution_count": 34,
   "id": "a7e14044",
   "metadata": {},
   "outputs": [],
   "source": [
    "model2.compile(optimizer = 'Adam', loss= 'binary_crossentropy',metrics = ['accuracy'])"
   ]
  },
  {
   "cell_type": "code",
   "execution_count": 35,
   "id": "d134c931",
   "metadata": {
    "scrolled": false
   },
   "outputs": [
    {
     "name": "stdout",
     "output_type": "stream",
     "text": [
      "Epoch 1/100\n",
      "200/200 [==============================] - 3s 8ms/step - loss: 0.6470 - accuracy: 0.6637 - val_loss: 0.5688 - val_accuracy: 0.7825\n",
      "Epoch 2/100\n",
      "200/200 [==============================] - 1s 4ms/step - loss: 0.5272 - accuracy: 0.7947 - val_loss: 0.4884 - val_accuracy: 0.8006\n",
      "Epoch 3/100\n",
      "200/200 [==============================] - 1s 5ms/step - loss: 0.4811 - accuracy: 0.7970 - val_loss: 0.4560 - val_accuracy: 0.8037\n",
      "Epoch 4/100\n",
      "200/200 [==============================] - 1s 4ms/step - loss: 0.4575 - accuracy: 0.7994 - val_loss: 0.4381 - val_accuracy: 0.8125\n",
      "Epoch 5/100\n",
      "200/200 [==============================] - 1s 4ms/step - loss: 0.4444 - accuracy: 0.8034 - val_loss: 0.4288 - val_accuracy: 0.8206\n",
      "Epoch 6/100\n",
      "200/200 [==============================] - 1s 4ms/step - loss: 0.4376 - accuracy: 0.8080 - val_loss: 0.4248 - val_accuracy: 0.8238\n",
      "Epoch 7/100\n",
      "200/200 [==============================] - 1s 4ms/step - loss: 0.4330 - accuracy: 0.8103 - val_loss: 0.4224 - val_accuracy: 0.8225\n",
      "Epoch 8/100\n",
      "200/200 [==============================] - 1s 5ms/step - loss: 0.4295 - accuracy: 0.8138 - val_loss: 0.4216 - val_accuracy: 0.8200\n",
      "Epoch 9/100\n",
      "200/200 [==============================] - 1s 5ms/step - loss: 0.4266 - accuracy: 0.8173 - val_loss: 0.4192 - val_accuracy: 0.8263\n",
      "Epoch 10/100\n",
      "200/200 [==============================] - 1s 4ms/step - loss: 0.4234 - accuracy: 0.8206 - val_loss: 0.4180 - val_accuracy: 0.8294\n",
      "Epoch 11/100\n",
      "200/200 [==============================] - 1s 5ms/step - loss: 0.4207 - accuracy: 0.8241 - val_loss: 0.4165 - val_accuracy: 0.8294\n",
      "Epoch 12/100\n",
      "200/200 [==============================] - 1s 5ms/step - loss: 0.4181 - accuracy: 0.8247 - val_loss: 0.4151 - val_accuracy: 0.8319\n",
      "Epoch 13/100\n",
      "200/200 [==============================] - 1s 4ms/step - loss: 0.4155 - accuracy: 0.8247 - val_loss: 0.4138 - val_accuracy: 0.8319\n",
      "Epoch 14/100\n",
      "200/200 [==============================] - 1s 4ms/step - loss: 0.4133 - accuracy: 0.8241 - val_loss: 0.4125 - val_accuracy: 0.8294\n",
      "Epoch 15/100\n",
      "200/200 [==============================] - 1s 5ms/step - loss: 0.4106 - accuracy: 0.8242 - val_loss: 0.4110 - val_accuracy: 0.8319\n",
      "Epoch 16/100\n",
      "200/200 [==============================] - 1s 5ms/step - loss: 0.4085 - accuracy: 0.8247 - val_loss: 0.4097 - val_accuracy: 0.8319\n",
      "Epoch 17/100\n",
      "200/200 [==============================] - 1s 5ms/step - loss: 0.4061 - accuracy: 0.8248 - val_loss: 0.4085 - val_accuracy: 0.8288\n",
      "Epoch 18/100\n",
      "200/200 [==============================] - 1s 6ms/step - loss: 0.4038 - accuracy: 0.8241 - val_loss: 0.4065 - val_accuracy: 0.8313\n",
      "Epoch 19/100\n",
      "200/200 [==============================] - 1s 6ms/step - loss: 0.4015 - accuracy: 0.8263 - val_loss: 0.4043 - val_accuracy: 0.8313\n",
      "Epoch 20/100\n",
      "200/200 [==============================] - 1s 5ms/step - loss: 0.3987 - accuracy: 0.8264 - val_loss: 0.4026 - val_accuracy: 0.8313\n",
      "Epoch 21/100\n",
      "200/200 [==============================] - 1s 5ms/step - loss: 0.3958 - accuracy: 0.8258 - val_loss: 0.3997 - val_accuracy: 0.8344\n",
      "Epoch 22/100\n",
      "200/200 [==============================] - 1s 5ms/step - loss: 0.3929 - accuracy: 0.8280 - val_loss: 0.3963 - val_accuracy: 0.8338\n",
      "Epoch 23/100\n",
      "200/200 [==============================] - 1s 4ms/step - loss: 0.3903 - accuracy: 0.8283 - val_loss: 0.3941 - val_accuracy: 0.8350\n",
      "Epoch 24/100\n",
      "200/200 [==============================] - 1s 5ms/step - loss: 0.3879 - accuracy: 0.8288 - val_loss: 0.3917 - val_accuracy: 0.8363\n",
      "Epoch 25/100\n",
      "200/200 [==============================] - 1s 4ms/step - loss: 0.3860 - accuracy: 0.8317 - val_loss: 0.3900 - val_accuracy: 0.8338\n",
      "Epoch 26/100\n",
      "200/200 [==============================] - 1s 5ms/step - loss: 0.3846 - accuracy: 0.8320 - val_loss: 0.3882 - val_accuracy: 0.8338\n",
      "Epoch 27/100\n",
      "200/200 [==============================] - 1s 5ms/step - loss: 0.3827 - accuracy: 0.8325 - val_loss: 0.3882 - val_accuracy: 0.8388\n",
      "Epoch 28/100\n",
      "200/200 [==============================] - 1s 6ms/step - loss: 0.3820 - accuracy: 0.8341 - val_loss: 0.3858 - val_accuracy: 0.8313\n",
      "Epoch 29/100\n",
      "200/200 [==============================] - 1s 6ms/step - loss: 0.3808 - accuracy: 0.8327 - val_loss: 0.3859 - val_accuracy: 0.8350\n",
      "Epoch 30/100\n",
      "200/200 [==============================] - 1s 5ms/step - loss: 0.3799 - accuracy: 0.8339 - val_loss: 0.3842 - val_accuracy: 0.8306\n",
      "Epoch 31/100\n",
      "200/200 [==============================] - 1s 5ms/step - loss: 0.3787 - accuracy: 0.8342 - val_loss: 0.3833 - val_accuracy: 0.8306\n",
      "Epoch 32/100\n",
      "200/200 [==============================] - 1s 5ms/step - loss: 0.3780 - accuracy: 0.8353 - val_loss: 0.3817 - val_accuracy: 0.8294\n",
      "Epoch 33/100\n",
      "200/200 [==============================] - 1s 5ms/step - loss: 0.3765 - accuracy: 0.8336 - val_loss: 0.3818 - val_accuracy: 0.8325\n",
      "Epoch 34/100\n",
      "200/200 [==============================] - 1s 4ms/step - loss: 0.3769 - accuracy: 0.8333 - val_loss: 0.3807 - val_accuracy: 0.8331\n",
      "Epoch 35/100\n",
      "200/200 [==============================] - 1s 4ms/step - loss: 0.3756 - accuracy: 0.8341 - val_loss: 0.3793 - val_accuracy: 0.8294\n",
      "Epoch 36/100\n",
      "200/200 [==============================] - 1s 6ms/step - loss: 0.3749 - accuracy: 0.8342 - val_loss: 0.3777 - val_accuracy: 0.8306\n",
      "Epoch 37/100\n",
      "200/200 [==============================] - 1s 5ms/step - loss: 0.3740 - accuracy: 0.8336 - val_loss: 0.3773 - val_accuracy: 0.8313\n",
      "Epoch 38/100\n",
      "200/200 [==============================] - 1s 5ms/step - loss: 0.3737 - accuracy: 0.8323 - val_loss: 0.3769 - val_accuracy: 0.8300\n",
      "Epoch 39/100\n",
      "200/200 [==============================] - 1s 5ms/step - loss: 0.3728 - accuracy: 0.8331 - val_loss: 0.3768 - val_accuracy: 0.8319\n",
      "Epoch 40/100\n",
      "200/200 [==============================] - 1s 5ms/step - loss: 0.3720 - accuracy: 0.8330 - val_loss: 0.3760 - val_accuracy: 0.8313\n",
      "Epoch 41/100\n",
      "200/200 [==============================] - 1s 5ms/step - loss: 0.3715 - accuracy: 0.8345 - val_loss: 0.3753 - val_accuracy: 0.8300\n",
      "Epoch 42/100\n",
      "200/200 [==============================] - 1s 4ms/step - loss: 0.3706 - accuracy: 0.8350 - val_loss: 0.3745 - val_accuracy: 0.8281\n",
      "Epoch 43/100\n",
      "200/200 [==============================] - 1s 4ms/step - loss: 0.3702 - accuracy: 0.8338 - val_loss: 0.3740 - val_accuracy: 0.8263\n",
      "Epoch 44/100\n",
      "200/200 [==============================] - 1s 4ms/step - loss: 0.3700 - accuracy: 0.8323 - val_loss: 0.3730 - val_accuracy: 0.8281\n",
      "Epoch 45/100\n",
      "200/200 [==============================] - 1s 6ms/step - loss: 0.3689 - accuracy: 0.8331 - val_loss: 0.3739 - val_accuracy: 0.8325\n",
      "Epoch 46/100\n",
      "200/200 [==============================] - 1s 5ms/step - loss: 0.3687 - accuracy: 0.8356 - val_loss: 0.3729 - val_accuracy: 0.8294\n",
      "Epoch 47/100\n",
      "200/200 [==============================] - 1s 4ms/step - loss: 0.3684 - accuracy: 0.8347 - val_loss: 0.3719 - val_accuracy: 0.8294\n",
      "Epoch 48/100\n",
      "200/200 [==============================] - 1s 4ms/step - loss: 0.3678 - accuracy: 0.8344 - val_loss: 0.3721 - val_accuracy: 0.8275\n",
      "Epoch 49/100\n",
      "200/200 [==============================] - 1s 4ms/step - loss: 0.3677 - accuracy: 0.8333 - val_loss: 0.3714 - val_accuracy: 0.8256\n",
      "Epoch 50/100\n",
      "200/200 [==============================] - 1s 5ms/step - loss: 0.3665 - accuracy: 0.8325 - val_loss: 0.3705 - val_accuracy: 0.8275\n",
      "Epoch 51/100\n",
      "200/200 [==============================] - 1s 5ms/step - loss: 0.3667 - accuracy: 0.8330 - val_loss: 0.3707 - val_accuracy: 0.8294\n",
      "Epoch 52/100\n",
      "200/200 [==============================] - 1s 5ms/step - loss: 0.3660 - accuracy: 0.8344 - val_loss: 0.3700 - val_accuracy: 0.8288\n",
      "Epoch 53/100\n",
      "200/200 [==============================] - 1s 4ms/step - loss: 0.3655 - accuracy: 0.8347 - val_loss: 0.3692 - val_accuracy: 0.8294\n",
      "Epoch 54/100\n",
      "200/200 [==============================] - 1s 4ms/step - loss: 0.3649 - accuracy: 0.8361 - val_loss: 0.3703 - val_accuracy: 0.8294\n",
      "Epoch 55/100\n",
      "200/200 [==============================] - 1s 4ms/step - loss: 0.3649 - accuracy: 0.8345 - val_loss: 0.3686 - val_accuracy: 0.8275\n",
      "Epoch 56/100\n",
      "200/200 [==============================] - 1s 4ms/step - loss: 0.3635 - accuracy: 0.8347 - val_loss: 0.3713 - val_accuracy: 0.8319\n",
      "Epoch 57/100\n",
      "200/200 [==============================] - 1s 5ms/step - loss: 0.3639 - accuracy: 0.8331 - val_loss: 0.3672 - val_accuracy: 0.8306\n"
     ]
    },
    {
     "name": "stdout",
     "output_type": "stream",
     "text": [
      "Epoch 58/100\n",
      "200/200 [==============================] - 1s 6ms/step - loss: 0.3626 - accuracy: 0.8341 - val_loss: 0.3676 - val_accuracy: 0.8300\n",
      "Epoch 59/100\n",
      "200/200 [==============================] - 1s 5ms/step - loss: 0.3618 - accuracy: 0.8339 - val_loss: 0.3669 - val_accuracy: 0.8288\n",
      "Epoch 60/100\n",
      "200/200 [==============================] - 1s 5ms/step - loss: 0.3605 - accuracy: 0.8333 - val_loss: 0.3671 - val_accuracy: 0.8313\n",
      "Epoch 61/100\n",
      "200/200 [==============================] - 1s 5ms/step - loss: 0.3597 - accuracy: 0.8336 - val_loss: 0.3660 - val_accuracy: 0.8300\n",
      "Epoch 62/100\n",
      "200/200 [==============================] - 1s 5ms/step - loss: 0.3592 - accuracy: 0.8352 - val_loss: 0.3651 - val_accuracy: 0.8306\n",
      "Epoch 63/100\n",
      "200/200 [==============================] - 1s 4ms/step - loss: 0.3583 - accuracy: 0.8519 - val_loss: 0.3644 - val_accuracy: 0.8475\n",
      "Epoch 64/100\n",
      "200/200 [==============================] - 1s 4ms/step - loss: 0.3572 - accuracy: 0.8589 - val_loss: 0.3638 - val_accuracy: 0.8506\n",
      "Epoch 65/100\n",
      "200/200 [==============================] - 1s 4ms/step - loss: 0.3569 - accuracy: 0.8573 - val_loss: 0.3629 - val_accuracy: 0.8487\n",
      "Epoch 66/100\n",
      "200/200 [==============================] - 1s 5ms/step - loss: 0.3565 - accuracy: 0.8575 - val_loss: 0.3616 - val_accuracy: 0.8525\n",
      "Epoch 67/100\n",
      "200/200 [==============================] - 1s 5ms/step - loss: 0.3558 - accuracy: 0.8589 - val_loss: 0.3615 - val_accuracy: 0.8494\n",
      "Epoch 68/100\n",
      "200/200 [==============================] - 1s 4ms/step - loss: 0.3557 - accuracy: 0.8591 - val_loss: 0.3612 - val_accuracy: 0.8494\n",
      "Epoch 69/100\n",
      "200/200 [==============================] - 1s 4ms/step - loss: 0.3545 - accuracy: 0.8597 - val_loss: 0.3613 - val_accuracy: 0.8481\n",
      "Epoch 70/100\n",
      "200/200 [==============================] - 1s 5ms/step - loss: 0.3547 - accuracy: 0.8611 - val_loss: 0.3612 - val_accuracy: 0.8487\n",
      "Epoch 71/100\n",
      "200/200 [==============================] - 1s 5ms/step - loss: 0.3544 - accuracy: 0.8597 - val_loss: 0.3612 - val_accuracy: 0.8512\n",
      "Epoch 72/100\n",
      "200/200 [==============================] - 1s 4ms/step - loss: 0.3537 - accuracy: 0.8603 - val_loss: 0.3619 - val_accuracy: 0.8456\n",
      "Epoch 73/100\n",
      "200/200 [==============================] - 1s 5ms/step - loss: 0.3533 - accuracy: 0.8598 - val_loss: 0.3604 - val_accuracy: 0.8506\n",
      "Epoch 74/100\n",
      "200/200 [==============================] - 1s 4ms/step - loss: 0.3528 - accuracy: 0.8606 - val_loss: 0.3603 - val_accuracy: 0.8475\n",
      "Epoch 75/100\n",
      "200/200 [==============================] - 1s 4ms/step - loss: 0.3528 - accuracy: 0.8586 - val_loss: 0.3595 - val_accuracy: 0.8500\n",
      "Epoch 76/100\n",
      "200/200 [==============================] - 1s 4ms/step - loss: 0.3520 - accuracy: 0.8627 - val_loss: 0.3597 - val_accuracy: 0.8519\n",
      "Epoch 77/100\n",
      "200/200 [==============================] - 1s 6ms/step - loss: 0.3519 - accuracy: 0.8598 - val_loss: 0.3615 - val_accuracy: 0.8512\n",
      "Epoch 78/100\n",
      "200/200 [==============================] - 1s 4ms/step - loss: 0.3515 - accuracy: 0.8606 - val_loss: 0.3587 - val_accuracy: 0.8481\n",
      "Epoch 79/100\n",
      "200/200 [==============================] - 1s 5ms/step - loss: 0.3511 - accuracy: 0.8623 - val_loss: 0.3581 - val_accuracy: 0.8487\n",
      "Epoch 80/100\n",
      "200/200 [==============================] - 1s 5ms/step - loss: 0.3507 - accuracy: 0.8614 - val_loss: 0.3581 - val_accuracy: 0.8506\n",
      "Epoch 81/100\n",
      "200/200 [==============================] - 1s 5ms/step - loss: 0.3502 - accuracy: 0.8625 - val_loss: 0.3577 - val_accuracy: 0.8481\n",
      "Epoch 82/100\n",
      "200/200 [==============================] - 1s 5ms/step - loss: 0.3505 - accuracy: 0.8633 - val_loss: 0.3584 - val_accuracy: 0.8512\n",
      "Epoch 83/100\n",
      "200/200 [==============================] - 1s 4ms/step - loss: 0.3503 - accuracy: 0.8642 - val_loss: 0.3572 - val_accuracy: 0.8487\n",
      "Epoch 84/100\n",
      "200/200 [==============================] - 1s 4ms/step - loss: 0.3495 - accuracy: 0.8648 - val_loss: 0.3581 - val_accuracy: 0.8531\n",
      "Epoch 85/100\n",
      "200/200 [==============================] - 1s 5ms/step - loss: 0.3495 - accuracy: 0.8609 - val_loss: 0.3575 - val_accuracy: 0.8537\n",
      "Epoch 86/100\n",
      "200/200 [==============================] - 1s 5ms/step - loss: 0.3494 - accuracy: 0.8608 - val_loss: 0.3554 - val_accuracy: 0.8519\n",
      "Epoch 87/100\n",
      "200/200 [==============================] - 1s 5ms/step - loss: 0.3490 - accuracy: 0.8606 - val_loss: 0.3560 - val_accuracy: 0.8481\n",
      "Epoch 88/100\n",
      "200/200 [==============================] - 1s 5ms/step - loss: 0.3492 - accuracy: 0.8634 - val_loss: 0.3594 - val_accuracy: 0.8494\n",
      "Epoch 89/100\n",
      "200/200 [==============================] - 1s 4ms/step - loss: 0.3489 - accuracy: 0.8628 - val_loss: 0.3544 - val_accuracy: 0.8531\n",
      "Epoch 90/100\n",
      "200/200 [==============================] - 1s 5ms/step - loss: 0.3482 - accuracy: 0.8619 - val_loss: 0.3547 - val_accuracy: 0.8494\n",
      "Epoch 91/100\n",
      "200/200 [==============================] - 1s 5ms/step - loss: 0.3480 - accuracy: 0.8603 - val_loss: 0.3538 - val_accuracy: 0.8525\n",
      "Epoch 92/100\n",
      "200/200 [==============================] - 1s 4ms/step - loss: 0.3477 - accuracy: 0.8622 - val_loss: 0.3535 - val_accuracy: 0.8544\n",
      "Epoch 93/100\n",
      "200/200 [==============================] - 1s 4ms/step - loss: 0.3475 - accuracy: 0.8611 - val_loss: 0.3536 - val_accuracy: 0.8512\n",
      "Epoch 94/100\n",
      "200/200 [==============================] - 1s 4ms/step - loss: 0.3472 - accuracy: 0.8617 - val_loss: 0.3539 - val_accuracy: 0.8500\n",
      "Epoch 95/100\n",
      "200/200 [==============================] - 1s 5ms/step - loss: 0.3471 - accuracy: 0.8627 - val_loss: 0.3531 - val_accuracy: 0.8525\n",
      "Epoch 96/100\n",
      "200/200 [==============================] - 1s 4ms/step - loss: 0.3465 - accuracy: 0.8622 - val_loss: 0.3532 - val_accuracy: 0.8512\n",
      "Epoch 97/100\n",
      "200/200 [==============================] - 1s 5ms/step - loss: 0.3464 - accuracy: 0.8627 - val_loss: 0.3528 - val_accuracy: 0.8487\n",
      "Epoch 98/100\n",
      "200/200 [==============================] - 1s 5ms/step - loss: 0.3463 - accuracy: 0.8619 - val_loss: 0.3519 - val_accuracy: 0.8519\n",
      "Epoch 99/100\n",
      "200/200 [==============================] - 1s 5ms/step - loss: 0.3460 - accuracy: 0.8639 - val_loss: 0.3525 - val_accuracy: 0.8506\n",
      "Epoch 100/100\n",
      "200/200 [==============================] - 1s 4ms/step - loss: 0.3455 - accuracy: 0.8637 - val_loss: 0.3513 - val_accuracy: 0.8544\n"
     ]
    }
   ],
   "source": [
    "history2 = model2.fit(X_train_scaled, y_train, epochs = 100, validation_split = 0.2)"
   ]
  },
  {
   "cell_type": "code",
   "execution_count": 36,
   "id": "08e95fde",
   "metadata": {},
   "outputs": [
    {
     "data": {
      "text/plain": [
       "[array([[ 1.21791027e-01, -1.48539349e-01, -2.02387646e-02,\n",
       "         -8.10524896e-02,  1.02852166e-01],\n",
       "        [ 5.41685700e-01, -4.40617919e-01,  3.34782988e-01,\n",
       "          9.85367477e-01, -6.99986219e-01],\n",
       "        [ 2.31271669e-01,  4.25986834e-02,  3.61158475e-02,\n",
       "          7.45087117e-02, -1.72743008e-01],\n",
       "        [-6.93235755e-01, -5.97873092e-01, -4.51409578e-01,\n",
       "         -1.39616489e-01, -1.02164276e-01],\n",
       "        [-4.34135795e-01, -2.59925574e-01, -9.65640247e-01,\n",
       "          1.66365087e+00, -3.13935727e-01],\n",
       "        [ 1.07478328e-01, -2.39048321e-02, -2.16686912e-02,\n",
       "         -3.46220024e-02, -1.22111410e-01],\n",
       "        [ 8.43126416e-01, -2.52264142e-01,  2.03841459e-02,\n",
       "          4.19261485e-01,  1.57185376e-01],\n",
       "        [-3.96505482e-02, -2.33268231e-01, -6.01316220e-04,\n",
       "          8.77785217e-03,  4.14376736e-01],\n",
       "        [-3.07967737e-02, -8.09267014e-02,  2.47763216e-01,\n",
       "          9.11934003e-02,  5.73328197e-01],\n",
       "        [ 1.54551223e-01, -2.35779554e-01, -6.19416609e-02,\n",
       "          1.77106410e-02, -3.65526110e-01],\n",
       "        [ 4.05263722e-01, -9.35175866e-02,  2.89043449e-02,\n",
       "         -7.58430138e-02,  2.32024372e-01]], dtype=float32),\n",
       " array([ 1.1149073 ,  0.8403083 , -0.05448496, -0.24837838,  0.9269874 ],\n",
       "       dtype=float32)]"
      ]
     },
     "execution_count": 36,
     "metadata": {},
     "output_type": "execute_result"
    }
   ],
   "source": [
    "model2.layers[0].get_weights()"
   ]
  },
  {
   "cell_type": "code",
   "execution_count": 37,
   "id": "bf2251dd",
   "metadata": {},
   "outputs": [
    {
     "name": "stdout",
     "output_type": "stream",
     "text": [
      "63/63 [==============================] - 0s 3ms/step\n"
     ]
    },
    {
     "data": {
      "text/plain": [
       "array([[0],\n",
       "       [0],\n",
       "       [0],\n",
       "       ...,\n",
       "       [1],\n",
       "       [0],\n",
       "       [0]])"
      ]
     },
     "execution_count": 37,
     "metadata": {},
     "output_type": "execute_result"
    }
   ],
   "source": [
    "y_log2 = model2.predict(X_test_scaled)\n",
    "\n",
    "y_pred2 = np.where(y_log2 > 0.5,1,0)\n",
    "y_pred2"
   ]
  },
  {
   "cell_type": "code",
   "execution_count": 38,
   "id": "b3e0c692",
   "metadata": {},
   "outputs": [
    {
     "data": {
      "text/plain": [
       "0.859"
      ]
     },
     "execution_count": 38,
     "metadata": {},
     "output_type": "execute_result"
    }
   ],
   "source": [
    "accuracy_score(y_test,y_pred2)"
   ]
  },
  {
   "cell_type": "code",
   "execution_count": 39,
   "id": "7e2e6e86",
   "metadata": {},
   "outputs": [
    {
     "data": {
      "text/plain": [
       "[<matplotlib.lines.Line2D at 0x2baec6ea6d0>]"
      ]
     },
     "execution_count": 39,
     "metadata": {},
     "output_type": "execute_result"
    },
    {
     "data": {
      "image/png": "[encoded data removed]",
      "text/plain": [
       "<Figure size 640x480 with 1 Axes>"
      ]
     },
     "metadata": {},
     "output_type": "display_data"
    }
   ],
   "source": [
    "plt.plot(history2.history['loss'])\n",
    "plt.plot(history2.history['val_loss'])"
   ]
  },
  {
   "cell_type": "code",
   "execution_count": 40,
   "id": "5d7b69c1",
   "metadata": {
    "scrolled": false
   },
   "outputs": [
    {
     "data": {
      "text/plain": [
       "[<matplotlib.lines.Line2D at 0x2baec8c4b10>]"
      ]
     },
     "execution_count": 40,
     "metadata": {},
     "output_type": "execute_result"
    },
    {
     "data": {
      "image/png": "[encoded data removed]",
      "text/plain": [
       "<Figure size 640x480 with 1 Axes>"
      ]
     },
     "metadata": {},
     "output_type": "display_data"
    }
   ],
   "source": [
    "plt.plot(history2.history['accuracy'])\n",
    "plt.plot(history2.history['val_accuracy'])"
   ]
  },
  {
   "cell_type": "code",
   "execution_count": null,
   "id": "d4694332",
   "metadata": {},
   "outputs": [],
   "source": [
    "!pip install --upgrade notebook nbconvert"
   ]
  },
  {
   "cell_type": "code",
   "execution_count": null,
   "id": "35a0a525",
   "metadata": {},
   "outputs": [],
   "source": []
  }
 ],
 "metadata": {
  "kernelspec": {
   "display_name": "Python 3 (ipykernel)",
   "language": "python",
   "name": "python3"
  },
  "language_info": {
   "codemirror_mode": {
    "name": "ipython",
    "version": 3
   },
   "file_extension": ".py",
   "mimetype": "text/x-python",
   "name": "python",
   "nbconvert_exporter": "python",
   "pygments_lexer": "ipython3",
   "version": "3.11.3"
  }
 },
 "nbformat": 4,
 "nbformat_minor": 5
}
